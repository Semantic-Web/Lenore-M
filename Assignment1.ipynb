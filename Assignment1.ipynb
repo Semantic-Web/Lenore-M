{
 "cells": [
  {
   "cell_type": "code",
   "execution_count": 1,
   "metadata": {
    "collapsed": false
   },
   "outputs": [
    {
     "name": "stdout",
     "output_type": "stream",
     "text": [
      "US Census Bureau, Department of Commerce 77551\n",
      "National Oceanic and Atmospheric Administration, Department of Commerce 69774\n",
      "U.S. Geological Survey, Department of the Interior 55083\n",
      "Department of Agriculture 37770\n",
      "U.S. Department of Health & Human Services 35135\n",
      "Earth Data Analysis Center, University of New Mexico 23615\n",
      "Department of Defense 23227\n",
      "Department of Transportation 22657\n",
      "Department of Education 21494\n",
      "General Services Administration 18482\n"
     ]
    }
   ],
   "source": [
    "import csv\n",
    "from collections import defaultdict\n",
    "reader = csv.DictReader(open('C:\\Users\\Lenore\\Desktop\\School\\MSITM\\Python\\datagovdatasetsviewmetrics.csv'))\n",
    "organizations = defaultdict(int)\n",
    "for row in reader:\n",
    "    organizations[row[\"Organization Name\"]] += int(row[\"Views per Month\"])\n",
    "    \n",
    "for organization, views in sorted(organizations.iteritems(), key=lambda (k, v): (-v, k))[:10]:\n",
    "    print organization, views"
   ]
  },
  {
   "cell_type": "code",
   "execution_count": 25,
   "metadata": {
    "collapsed": false
   },
   "outputs": [
    {
     "name": "stdout",
     "output_type": "stream",
     "text": [
      "OrderedDict([('US Census Bureau, Department of Commerce', 77551), ('National Oceanic and Atmospheric Administration, Department of Commerce', 69774), ('U.S. Geological Survey, Department of the Interior', 55083), ('Department of Agriculture', 37770), ('U.S. Department of Health & Human Services', 35135), ('Earth Data Analysis Center, University of New Mexico', 23615), ('Department of Defense', 23227), ('Department of Transportation', 22657), ('Department of Education', 21494), ('General Services Administration', 18482)])\n"
     ]
    }
   ],
   "source": [
    "import csv\n",
    "import matplotlib.pyplot as plt\n",
    "import collections\n",
    "\n",
    "from collections import defaultdict\n",
    "reader = csv.DictReader(open('C:\\Users\\Lenore\\Desktop\\School\\MSITM\\Python\\datagovdatasetsviewmetrics.csv'))\n",
    "organizations = defaultdict(int)\n",
    "for row in reader:\n",
    "    organizations[row[\"Organization Name\"]] += int(row[\"Views per Month\"])\n",
    "    \n",
    "D = sorted(organizations.iteritems(), key=lambda (k, v): (-v, k))[:10]\n",
    "D = collections.OrderedDict(D)\n",
    "\n",
    "plt.bar(range(len(D)), D.values(), align='center')\n",
    "plt.xticks(range(len(D)), D.keys(), rotation='horizontal')\n",
    "\n",
    "plt.show()"
   ]
  },
  {
   "cell_type": "code",
   "execution_count": null,
   "metadata": {
    "collapsed": true
   },
   "outputs": [],
   "source": []
  }
 ],
 "metadata": {
  "kernelspec": {
   "display_name": "Python 2",
   "language": "python",
   "name": "python2"
  },
  "language_info": {
   "codemirror_mode": {
    "name": "ipython",
    "version": 2
   },
   "file_extension": ".py",
   "mimetype": "text/x-python",
   "name": "python",
   "nbconvert_exporter": "python",
   "pygments_lexer": "ipython2",
   "version": "2.7.9"
  }
 },
 "nbformat": 4,
 "nbformat_minor": 0
}
