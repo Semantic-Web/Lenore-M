{
 "cells": [
  {
   "cell_type": "code",
   "execution_count": 1,
   "metadata": {
    "collapsed": false
   },
   "outputs": [
    {
     "name": "stdout",
     "output_type": "stream",
     "text": [
      "                 area_name per_capita_income crimes\n",
      "0              Rogers Park             23939      8\n",
      "1               West Ridge             23040      4\n",
      "2                   Uptown             35787      5\n",
      "3           Lincoln Square             37524      2\n",
      "4             North Center             57123      4\n",
      "5                Lake View             60058      9\n",
      "6             Lincoln Park             71551      9\n",
      "7          Near North Side             88669     26\n",
      "8              Edison Park             40959      0\n",
      "9             Norwood Park             32875      1\n",
      "10          Jefferson Park             27751      4\n",
      "11             Forest Glen             44164      2\n",
      "12              North Park             26576      1\n",
      "13             Albany Park             21323      4\n",
      "14            Portage Park             24336     10\n",
      "15             Irving Park             27249      1\n",
      "16                 Dunning             26282      5\n",
      "17              Montclaire             22014      1\n",
      "18          Belmont Cragin             15461      4\n",
      "19                 Hermosa             15089      4\n",
      "20                Avondale             20039      4\n",
      "21            Logan Square             31908      6\n",
      "22           Humboldt park             13781     15\n",
      "23               West Town             43198     12\n",
      "24                  Austin             15957     36\n",
      "25      West Garfield Park             10934     10\n",
      "26      East Garfield Park             12961     13\n",
      "27          Near West Side             44689     18\n",
      "28          North Lawndale             12034     16\n",
      "29          South Lawndale             10402      5\n",
      "..                     ...               ...    ...\n",
      "48                Roseland             17949     11\n",
      "49                 Pullman             20588      1\n",
      "50           South Deering             14685      3\n",
      "51               East Side             17104      1\n",
      "52            West Pullman             16563     10\n",
      "53               Riverdale              8201      4\n",
      "54               Hegewisch             22677      0\n",
      "55          Garfield Ridge             26353      2\n",
      "56          Archer Heights             16134      1\n",
      "57           Brighton Park             13089      1\n",
      "58           McKinley Park             16954      1\n",
      "59              Bridgeport             22694      1\n",
      "60                New City             12765      8\n",
      "61             West Elsdon             15754      1\n",
      "62               Gage Park             12171      6\n",
      "63                Clearing             25113      4\n",
      "64               West Lawn             16907      4\n",
      "65            Chicago Lawn             13231      9\n",
      "66          West Englewood             11317     17\n",
      "67               Englewood             11888     16\n",
      "68  Greater Grand Crossing             17285     11\n",
      "69                 Ashburn             23482      0\n",
      "70          Auburn Gresham             15528     11\n",
      "71                 Beverly             39523      0\n",
      "72       Washington Height             19713      7\n",
      "73         Mount Greenwood             34381      0\n",
      "74             Morgan Park             27149      9\n",
      "75                  O'Hare             25828      3\n",
      "76               Edgewater             33385      6\n",
      "77                 CHICAGO             28202      0\n",
      "\n",
      "[78 rows x 3 columns]\n"
     ]
    },
    {
     "data": {
      "image/png": "[encoded data removed]",
      "text/plain": [
       "<matplotlib.figure.Figure at 0xb551eb8>"
      ]
     },
     "metadata": {},
     "output_type": "display_data"
    },
    {
     "data": {
      "text/plain": [
       "<matplotlib.figure.Figure at 0xb551630>"
      ]
     },
     "metadata": {},
     "output_type": "display_data"
    }
   ],
   "source": [
    "%matplotlib inline\n",
    "import pandas as pd\n",
    "import numpy as np\n",
    "import matplotlib.pyplot as plt\n",
    "from matplotlib import rcParams\n",
    "\n",
    "\n",
    "columns = ['area_name','per_capita_income','crimes']\n",
    "index = np.arange(80) # array of number of samples\n",
    "df = pd.DataFrame(columns=columns, index = index)\n",
    "def find_between( s, first, last ):\n",
    "    try:\n",
    "        start = s.index( first ) + len( first )\n",
    "        end = s.index( last, start )\n",
    "        return s[start:end]\n",
    "    except ValueError:\n",
    "        return \"\"\n",
    "counter = 0\n",
    "with open(\"ChicagoSocialEconomicInfo.rdf\") as f:\n",
    "    \n",
    "    for line in f:\n",
    "        s = df.xs(counter)\n",
    "        if \"<ds:community_area_name>\" in line:\n",
    "            areaName = find_between( line, \"<ds:community_area_name>\", \"</ds:community_area_name>\" )\n",
    "            areaName = areaName.rstrip()\n",
    "            s.area_name = areaName\n",
    "            #print areaName here\n",
    "        if \"<ds:per_capita_income_>\" in line:\n",
    "            perCapitaIncome = find_between( line, \"<ds:per_capita_income_>\",\"</ds:per_capita_income_>\")\n",
    "            s.per_capita_income = perCapitaIncome\n",
    "            s.crimes=0\n",
    "            df.append(s)\n",
    "            counter += 1\n",
    "            #print per capita income here\n",
    "\n",
    "with open(\"ChicageCriminalInfo.rdf\") as f:\n",
    "    \n",
    "    for line in f:\n",
    "        if \"<ds:community_area>\" in line:\n",
    "            areaNumber = find_between( line, \"<ds:community_area>\", \"</ds:community_area>\" )\n",
    "            areaNumber = int(areaNumber)\n",
    "            #print crimes in areaName\n",
    "            df['crimes'][areaNumber-1]=df['crimes'][areaNumber-1]+1\n",
    "\n",
    "\n",
    "df2 = df.ix[:77]            \n",
    "print df2\n",
    "my_plot = df2.sort(columns='crimes',ascending=True).plot(kind='bar',legend=None,title=\"Crimes vs Per Capita Income\",figsize=(15, 7))\n",
    "\n",
    "my_plot.set_xlabel(\"Per Capita Income\")\n",
    "my_plot.set_ylabel(\"Crimes\")   \n",
    "\n",
    "#autolayout labels should not be cutoff\n",
    "rcParams.update({'figure.autolayout': True})\n",
    "#initialize matplotlib\n",
    "plt.figure()\n",
    "\n",
    "#display graph\n",
    "plt.show()\n",
    "plt.close()  \n",
    "            \n",
    "            "
   ]
  },
  {
   "cell_type": "code",
   "execution_count": null,
   "metadata": {
    "collapsed": true
   },
   "outputs": [],
   "source": []
  },
  {
   "cell_type": "code",
   "execution_count": null,
   "metadata": {
    "collapsed": true
   },
   "outputs": [],
   "source": []
  }
 ],
 "metadata": {
  "kernelspec": {
   "display_name": "Python 2",
   "language": "python",
   "name": "python2"
  },
  "language_info": {
   "codemirror_mode": {
    "name": "ipython",
    "version": 2
   },
   "file_extension": ".py",
   "mimetype": "text/x-python",
   "name": "python",
   "nbconvert_exporter": "python",
   "pygments_lexer": "ipython2",
   "version": "2.7.10"
  }
 },
 "nbformat": 4,
 "nbformat_minor": 0
}
